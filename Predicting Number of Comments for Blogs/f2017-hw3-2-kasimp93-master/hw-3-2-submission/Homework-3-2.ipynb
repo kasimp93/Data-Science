{
 "cells": [
  {
   "cell_type": "markdown",
   "metadata": {},
   "source": [
    "# Predicting Number of Comments for Blogs ##\n",
    "\n",
    "In this assignment, we will work on blog posts. The deadline is ** Nov. 19 5pm **. The goal is to determine the number of comments a post will receive in the next 24 hours. You can find the details of the dataset [here](https://drive.google.com/a/bu.edu/file/d/19p7QBjH2Ai37MJcixiQ5UKlC0kw9l2Yd/view?usp=sharing). The data are stored in .csv files and each row of the dataset corresponds to a distinct blog (data instance). \n",
    "\n",
    "For information regarding the dataset and the features included in it please refer to the included README.md file.\n",
    "\n",
    "As learned in class most algorithms can only handle numeric values so we provided a dataset containing numeric values. The algorithms you are going to evaluate are the following: 1) Linear Regression, 2) Logistic Regression, 3) KNN, 4) Decision Tree Classifiers. Tasks 1 and 2 are related to regression to analyze this information, while tasks 3 and 4 are related to classification.\n",
    "\n",
    "Relevant Papers/citations:\n",
    "1) Buza, K. (2014). Feedback Prediction for Blogs. In Data Analysis, Machine Learning and Knowledge Discovery (pp. 145-152). Springer International Publishing.\n",
    "2) BlogFeedback Data Set UCI Machine Learning Repository"
   ]
  },
  {
   "cell_type": "markdown",
   "metadata": {},
   "source": [
    "### Task 1\n",
    "\n",
    "First, we will fit a linear regression model that predicts the number of comments a post will receive. Use the model to analyze the important factors that decide the number of comments of a blog. \n",
    "\n",
    "1. Report the results of your linear regression model (error, factors, e.t.c.) for the test datasets a) blogData_test-2012.02.csv b) blogData_test-2012.03.csv ** (10 points) **\n",
    "2. Provide a brief report explaining a) how did you address overfitting, b) interpretation of the linear regression model results, c) compare the results for the two test datasets and mention any interesting observations ** (5 points) **\n",
    "\n",
    "Total: ** (15 points) **\n"
   ]
  },
  {
   "cell_type": "code",
   "execution_count": 128,
   "metadata": {
    "collapsed": false
   },
   "outputs": [],
   "source": [
    "import csv\n",
    "import numpy as np \n",
    "import pandas as pd\n",
    "import statsmodels.api as sm\n",
    "import statsmodels.formula.api as smf\n",
    "from sklearn.model_selection import train_test_split\n",
    "from sklearn.linear_model import LinearRegression, LogisticRegression, Ridge\n",
    "import os\n",
    "import copy\n",
    "import matplotlib.pyplot as plt\n",
    "from sklearn import metrics\n",
    "from sklearn.svm import SVC\n",
    "from sklearn.datasets import load_diabetes, load_digits\n",
    "from sklearn.metrics import classification_report\n",
    "from sklearn.metrics import accuracy_score\n",
    "from sklearn.neighbors import KNeighborsClassifier\n",
    "from sklearn import tree"
   ]
  },
  {
   "cell_type": "code",
   "execution_count": 205,
   "metadata": {
    "collapsed": false,
    "scrolled": false
   },
   "outputs": [
    {
     "data": {
      "text/html": [
       "<div>\n",
       "<table border=\"1\" class=\"dataframe\">\n",
       "  <thead>\n",
       "    <tr style=\"text-align: right;\">\n",
       "      <th></th>\n",
       "      <th>40.30467</th>\n",
       "      <th>53.845657</th>\n",
       "      <th>0.0</th>\n",
       "      <th>401.0</th>\n",
       "      <th>15.0</th>\n",
       "      <th>15.52416</th>\n",
       "      <th>32.44188</th>\n",
       "      <th>0.0.1</th>\n",
       "      <th>377.0</th>\n",
       "      <th>3.0</th>\n",
       "      <th>...</th>\n",
       "      <th>0.0.229</th>\n",
       "      <th>1.0.1</th>\n",
       "      <th>0.0.230</th>\n",
       "      <th>0.0.231</th>\n",
       "      <th>0.0.232</th>\n",
       "      <th>0.0.233</th>\n",
       "      <th>0.0.234</th>\n",
       "      <th>0.0.235</th>\n",
       "      <th>0.0.236</th>\n",
       "      <th>1.0.2</th>\n",
       "    </tr>\n",
       "  </thead>\n",
       "  <tbody>\n",
       "    <tr>\n",
       "      <th>0</th>\n",
       "      <td>40.30467</td>\n",
       "      <td>53.845657</td>\n",
       "      <td>0.0</td>\n",
       "      <td>401.0</td>\n",
       "      <td>15.0</td>\n",
       "      <td>15.52416</td>\n",
       "      <td>32.44188</td>\n",
       "      <td>0.0</td>\n",
       "      <td>377.0</td>\n",
       "      <td>3.0</td>\n",
       "      <td>...</td>\n",
       "      <td>1.0</td>\n",
       "      <td>0.0</td>\n",
       "      <td>0.0</td>\n",
       "      <td>0.0</td>\n",
       "      <td>0.0</td>\n",
       "      <td>0.0</td>\n",
       "      <td>0.0</td>\n",
       "      <td>0.0</td>\n",
       "      <td>0.0</td>\n",
       "      <td>0.0</td>\n",
       "    </tr>\n",
       "    <tr>\n",
       "      <th>1</th>\n",
       "      <td>40.30467</td>\n",
       "      <td>53.845657</td>\n",
       "      <td>0.0</td>\n",
       "      <td>401.0</td>\n",
       "      <td>15.0</td>\n",
       "      <td>15.52416</td>\n",
       "      <td>32.44188</td>\n",
       "      <td>0.0</td>\n",
       "      <td>377.0</td>\n",
       "      <td>3.0</td>\n",
       "      <td>...</td>\n",
       "      <td>1.0</td>\n",
       "      <td>0.0</td>\n",
       "      <td>0.0</td>\n",
       "      <td>0.0</td>\n",
       "      <td>0.0</td>\n",
       "      <td>0.0</td>\n",
       "      <td>0.0</td>\n",
       "      <td>0.0</td>\n",
       "      <td>0.0</td>\n",
       "      <td>0.0</td>\n",
       "    </tr>\n",
       "    <tr>\n",
       "      <th>2</th>\n",
       "      <td>40.30467</td>\n",
       "      <td>53.845657</td>\n",
       "      <td>0.0</td>\n",
       "      <td>401.0</td>\n",
       "      <td>15.0</td>\n",
       "      <td>15.52416</td>\n",
       "      <td>32.44188</td>\n",
       "      <td>0.0</td>\n",
       "      <td>377.0</td>\n",
       "      <td>3.0</td>\n",
       "      <td>...</td>\n",
       "      <td>0.0</td>\n",
       "      <td>1.0</td>\n",
       "      <td>0.0</td>\n",
       "      <td>0.0</td>\n",
       "      <td>0.0</td>\n",
       "      <td>0.0</td>\n",
       "      <td>0.0</td>\n",
       "      <td>0.0</td>\n",
       "      <td>0.0</td>\n",
       "      <td>1.0</td>\n",
       "    </tr>\n",
       "    <tr>\n",
       "      <th>3</th>\n",
       "      <td>40.30467</td>\n",
       "      <td>53.845657</td>\n",
       "      <td>0.0</td>\n",
       "      <td>401.0</td>\n",
       "      <td>15.0</td>\n",
       "      <td>15.52416</td>\n",
       "      <td>32.44188</td>\n",
       "      <td>0.0</td>\n",
       "      <td>377.0</td>\n",
       "      <td>3.0</td>\n",
       "      <td>...</td>\n",
       "      <td>0.0</td>\n",
       "      <td>1.0</td>\n",
       "      <td>0.0</td>\n",
       "      <td>0.0</td>\n",
       "      <td>0.0</td>\n",
       "      <td>0.0</td>\n",
       "      <td>0.0</td>\n",
       "      <td>0.0</td>\n",
       "      <td>0.0</td>\n",
       "      <td>27.0</td>\n",
       "    </tr>\n",
       "    <tr>\n",
       "      <th>4</th>\n",
       "      <td>40.30467</td>\n",
       "      <td>53.845657</td>\n",
       "      <td>0.0</td>\n",
       "      <td>401.0</td>\n",
       "      <td>15.0</td>\n",
       "      <td>15.52416</td>\n",
       "      <td>32.44188</td>\n",
       "      <td>0.0</td>\n",
       "      <td>377.0</td>\n",
       "      <td>3.0</td>\n",
       "      <td>...</td>\n",
       "      <td>1.0</td>\n",
       "      <td>0.0</td>\n",
       "      <td>0.0</td>\n",
       "      <td>0.0</td>\n",
       "      <td>0.0</td>\n",
       "      <td>0.0</td>\n",
       "      <td>0.0</td>\n",
       "      <td>0.0</td>\n",
       "      <td>0.0</td>\n",
       "      <td>0.0</td>\n",
       "    </tr>\n",
       "  </tbody>\n",
       "</table>\n",
       "<p>5 rows × 281 columns</p>\n",
       "</div>"
      ],
      "text/plain": [
       "   40.30467  53.845657  0.0  401.0  15.0  15.52416  32.44188  0.0.1  377.0  \\\n",
       "0  40.30467  53.845657  0.0  401.0  15.0  15.52416  32.44188    0.0  377.0   \n",
       "1  40.30467  53.845657  0.0  401.0  15.0  15.52416  32.44188    0.0  377.0   \n",
       "2  40.30467  53.845657  0.0  401.0  15.0  15.52416  32.44188    0.0  377.0   \n",
       "3  40.30467  53.845657  0.0  401.0  15.0  15.52416  32.44188    0.0  377.0   \n",
       "4  40.30467  53.845657  0.0  401.0  15.0  15.52416  32.44188    0.0  377.0   \n",
       "\n",
       "   3.0  ...    0.0.229  1.0.1  0.0.230  0.0.231  0.0.232  0.0.233  0.0.234  \\\n",
       "0  3.0  ...        1.0    0.0      0.0      0.0      0.0      0.0      0.0   \n",
       "1  3.0  ...        1.0    0.0      0.0      0.0      0.0      0.0      0.0   \n",
       "2  3.0  ...        0.0    1.0      0.0      0.0      0.0      0.0      0.0   \n",
       "3  3.0  ...        0.0    1.0      0.0      0.0      0.0      0.0      0.0   \n",
       "4  3.0  ...        1.0    0.0      0.0      0.0      0.0      0.0      0.0   \n",
       "\n",
       "   0.0.235  0.0.236  1.0.2  \n",
       "0      0.0      0.0    0.0  \n",
       "1      0.0      0.0    0.0  \n",
       "2      0.0      0.0    1.0  \n",
       "3      0.0      0.0   27.0  \n",
       "4      0.0      0.0    0.0  \n",
       "\n",
       "[5 rows x 281 columns]"
      ]
     },
     "execution_count": 205,
     "metadata": {},
     "output_type": "execute_result"
    }
   ],
   "source": [
    "# Reading data\n",
    "df_train = pd.read_csv('BlogData/blogData_train.csv')\n",
    "df_test1 = pd.read_csv('BlogData/blogData_test-2012.02.csv')\n",
    "df_test2 = pd.read_csv('BlogData/blogData_test-2012.03.csv')\n",
    "df_train.head()"
   ]
  },
  {
   "cell_type": "code",
   "execution_count": 207,
   "metadata": {
    "collapsed": false
   },
   "outputs": [
    {
     "data": {
      "text/html": [
       "<div>\n",
       "<table border=\"1\" class=\"dataframe\">\n",
       "  <thead>\n",
       "    <tr style=\"text-align: right;\">\n",
       "      <th></th>\n",
       "      <th>40.30467</th>\n",
       "      <th>53.845657</th>\n",
       "      <th>0.0</th>\n",
       "      <th>401.0</th>\n",
       "      <th>15.0</th>\n",
       "      <th>15.52416</th>\n",
       "      <th>32.44188</th>\n",
       "      <th>0.0.1</th>\n",
       "      <th>377.0</th>\n",
       "      <th>3.0</th>\n",
       "      <th>...</th>\n",
       "      <th>0.0.229</th>\n",
       "      <th>1.0.1</th>\n",
       "      <th>0.0.230</th>\n",
       "      <th>0.0.231</th>\n",
       "      <th>0.0.232</th>\n",
       "      <th>0.0.233</th>\n",
       "      <th>0.0.234</th>\n",
       "      <th>0.0.235</th>\n",
       "      <th>0.0.236</th>\n",
       "      <th>1.0.2</th>\n",
       "    </tr>\n",
       "  </thead>\n",
       "  <tbody>\n",
       "    <tr>\n",
       "      <th>39999</th>\n",
       "      <td>13.888889</td>\n",
       "      <td>13.633655</td>\n",
       "      <td>1.0</td>\n",
       "      <td>34.0</td>\n",
       "      <td>8.0</td>\n",
       "      <td>4.888889</td>\n",
       "      <td>9.146274</td>\n",
       "      <td>0.0</td>\n",
       "      <td>30.0</td>\n",
       "      <td>1.0</td>\n",
       "      <td>...</td>\n",
       "      <td>0.0</td>\n",
       "      <td>0.0</td>\n",
       "      <td>0.0</td>\n",
       "      <td>0.0</td>\n",
       "      <td>1.0</td>\n",
       "      <td>0.0</td>\n",
       "      <td>0.0</td>\n",
       "      <td>0.0</td>\n",
       "      <td>0.0</td>\n",
       "      <td>0.0</td>\n",
       "    </tr>\n",
       "    <tr>\n",
       "      <th>28998</th>\n",
       "      <td>41.764988</td>\n",
       "      <td>84.531746</td>\n",
       "      <td>0.0</td>\n",
       "      <td>498.0</td>\n",
       "      <td>4.0</td>\n",
       "      <td>14.218226</td>\n",
       "      <td>51.456350</td>\n",
       "      <td>0.0</td>\n",
       "      <td>497.0</td>\n",
       "      <td>0.0</td>\n",
       "      <td>...</td>\n",
       "      <td>1.0</td>\n",
       "      <td>0.0</td>\n",
       "      <td>0.0</td>\n",
       "      <td>0.0</td>\n",
       "      <td>0.0</td>\n",
       "      <td>0.0</td>\n",
       "      <td>0.0</td>\n",
       "      <td>0.0</td>\n",
       "      <td>0.0</td>\n",
       "      <td>1.0</td>\n",
       "    </tr>\n",
       "    <tr>\n",
       "      <th>44478</th>\n",
       "      <td>65.052180</td>\n",
       "      <td>116.142780</td>\n",
       "      <td>0.0</td>\n",
       "      <td>442.0</td>\n",
       "      <td>3.0</td>\n",
       "      <td>23.947826</td>\n",
       "      <td>69.082535</td>\n",
       "      <td>0.0</td>\n",
       "      <td>395.0</td>\n",
       "      <td>1.0</td>\n",
       "      <td>...</td>\n",
       "      <td>0.0</td>\n",
       "      <td>0.0</td>\n",
       "      <td>1.0</td>\n",
       "      <td>0.0</td>\n",
       "      <td>0.0</td>\n",
       "      <td>0.0</td>\n",
       "      <td>0.0</td>\n",
       "      <td>0.0</td>\n",
       "      <td>0.0</td>\n",
       "      <td>0.0</td>\n",
       "    </tr>\n",
       "    <tr>\n",
       "      <th>50610</th>\n",
       "      <td>0.420290</td>\n",
       "      <td>1.013042</td>\n",
       "      <td>0.0</td>\n",
       "      <td>5.0</td>\n",
       "      <td>0.0</td>\n",
       "      <td>0.202899</td>\n",
       "      <td>0.553767</td>\n",
       "      <td>0.0</td>\n",
       "      <td>3.0</td>\n",
       "      <td>0.0</td>\n",
       "      <td>...</td>\n",
       "      <td>0.0</td>\n",
       "      <td>0.0</td>\n",
       "      <td>0.0</td>\n",
       "      <td>1.0</td>\n",
       "      <td>0.0</td>\n",
       "      <td>0.0</td>\n",
       "      <td>0.0</td>\n",
       "      <td>0.0</td>\n",
       "      <td>0.0</td>\n",
       "      <td>1.0</td>\n",
       "    </tr>\n",
       "    <tr>\n",
       "      <th>8366</th>\n",
       "      <td>16.593575</td>\n",
       "      <td>19.671364</td>\n",
       "      <td>1.0</td>\n",
       "      <td>144.0</td>\n",
       "      <td>10.0</td>\n",
       "      <td>6.512450</td>\n",
       "      <td>11.051215</td>\n",
       "      <td>0.0</td>\n",
       "      <td>111.0</td>\n",
       "      <td>2.0</td>\n",
       "      <td>...</td>\n",
       "      <td>0.0</td>\n",
       "      <td>0.0</td>\n",
       "      <td>0.0</td>\n",
       "      <td>1.0</td>\n",
       "      <td>0.0</td>\n",
       "      <td>0.0</td>\n",
       "      <td>0.0</td>\n",
       "      <td>0.0</td>\n",
       "      <td>0.0</td>\n",
       "      <td>13.0</td>\n",
       "    </tr>\n",
       "  </tbody>\n",
       "</table>\n",
       "<p>5 rows × 281 columns</p>\n",
       "</div>"
      ],
      "text/plain": [
       "        40.30467   53.845657  0.0  401.0  15.0   15.52416   32.44188  0.0.1  \\\n",
       "39999  13.888889   13.633655  1.0   34.0   8.0   4.888889   9.146274    0.0   \n",
       "28998  41.764988   84.531746  0.0  498.0   4.0  14.218226  51.456350    0.0   \n",
       "44478  65.052180  116.142780  0.0  442.0   3.0  23.947826  69.082535    0.0   \n",
       "50610   0.420290    1.013042  0.0    5.0   0.0   0.202899   0.553767    0.0   \n",
       "8366   16.593575   19.671364  1.0  144.0  10.0   6.512450  11.051215    0.0   \n",
       "\n",
       "       377.0  3.0  ...    0.0.229  1.0.1  0.0.230  0.0.231  0.0.232  0.0.233  \\\n",
       "39999   30.0  1.0  ...        0.0    0.0      0.0      0.0      1.0      0.0   \n",
       "28998  497.0  0.0  ...        1.0    0.0      0.0      0.0      0.0      0.0   \n",
       "44478  395.0  1.0  ...        0.0    0.0      1.0      0.0      0.0      0.0   \n",
       "50610    3.0  0.0  ...        0.0    0.0      0.0      1.0      0.0      0.0   \n",
       "8366   111.0  2.0  ...        0.0    0.0      0.0      1.0      0.0      0.0   \n",
       "\n",
       "       0.0.234  0.0.235  0.0.236  1.0.2  \n",
       "39999      0.0      0.0      0.0    0.0  \n",
       "28998      0.0      0.0      0.0    1.0  \n",
       "44478      0.0      0.0      0.0    0.0  \n",
       "50610      0.0      0.0      0.0    1.0  \n",
       "8366       0.0      0.0      0.0   13.0  \n",
       "\n",
       "[5 rows x 281 columns]"
      ]
     },
     "execution_count": 207,
     "metadata": {},
     "output_type": "execute_result"
    }
   ],
   "source": [
    "df_train = df_train.iloc[np.random.permutation(len(df_train))]\n",
    "df_test1 = df_train.iloc[np.random.permutation(len(df_test1))]\n",
    "df_test2 = df_train.iloc[np.random.permutation(len(df_test2))]\n",
    "df_train.head()"
   ]
  },
  {
   "cell_type": "code",
   "execution_count": 298,
   "metadata": {
    "collapsed": false
   },
   "outputs": [],
   "source": [
    "X_tst1 = df_test1.iloc[:, 0:279]\n",
    "Y_tst1 = df_test1.iloc[:, 280]\n",
    "X_tst2 = df_test2.iloc[:, 0:279]\n",
    "Y_tst2 = df_test2.iloc[:, 280]\n",
    "X_trn = df_train.iloc[:, 0:279]\n",
    "Y_trn = df_train.iloc[:, 280]\n",
    "X_trn = df_train.iloc[:, 0:279]\n",
    "Y_trn = df_train.iloc[:, 280]\n",
    "\n",
    "from sklearn.feature_selection import VarianceThreshold\n",
    "from sklearn.preprocessing import Normalizer\n",
    "sel = VarianceThreshold(threshold=(.8 * (1 - .8)))\n",
    "X_trn = sel.fit_transform(X_trn)\n",
    "X_tst1 = sel.fit_transform(X_tst1)\n",
    "X_tst2 = sel.fit_transform(X_tst2)\n",
    "\n",
    "from sklearn.decomposition import TruncatedSVD\n",
    "lsa = TruncatedSVD(65, algorithm = 'randomized')\n",
    "X_trn = lsa.fit_transform(X_trn)\n",
    "# normalize category columns and rescale to give location a larger weight\n",
    "X_trn = Normalizer(copy=False).fit_transform(X_trn)\n",
    "\n",
    "\n",
    "X_tst1 = lsa.fit_transform(X_tst1)\n",
    "# normalize category columns and rescale to give location a larger weight\n",
    "X_tst1 = Normalizer(copy=False).fit_transform(X_tst1)\n",
    "\n",
    "X_tst2 = lsa.fit_transform(X_tst2)\n",
    "# normalize category columns and rescale to give location a larger weight\n",
    "X_tst2 = Normalizer(copy=False).fit_transform(X_tst2)\n"
   ]
  },
  {
   "cell_type": "code",
   "execution_count": 299,
   "metadata": {
    "collapsed": false,
    "scrolled": false
   },
   "outputs": [
    {
     "name": "stdout",
     "output_type": "stream",
     "text": [
      "                            OLS Regression Results                            \n",
      "==============================================================================\n",
      "Dep. Variable:                  1.0.2   R-squared:                       0.379\n",
      "Model:                            OLS   Adj. R-squared:                  0.378\n",
      "Method:                 Least Squares   F-statistic:                     498.6\n",
      "Date:                Fri, 17 Nov 2017   Prob (F-statistic):               0.00\n",
      "Time:                        13:16:07   Log-Likelihood:            -2.5289e+05\n",
      "No. Observations:               52396   AIC:                         5.059e+05\n",
      "Df Residuals:                   52332   BIC:                         5.065e+05\n",
      "Df Model:                          64                                         \n",
      "Covariance Type:            nonrobust                                         \n",
      "==============================================================================\n",
      "                 coef    std err          t      P>|t|      [95.0% Conf. Int.]\n",
      "------------------------------------------------------------------------------\n",
      "x1            -0.7813      0.212     -3.681      0.000        -1.197    -0.365\n",
      "x2             0.4731      0.176      2.696      0.007         0.129     0.817\n",
      "x3            -0.0122      0.038     -0.316      0.752        -0.088     0.063\n",
      "x4            -0.0107      0.006     -1.679      0.093        -0.023     0.002\n",
      "x5             0.1035      0.070      1.479      0.139        -0.034     0.241\n",
      "x6         -7.741e+05   3.49e+05     -2.219      0.027     -1.46e+06 -9.03e+04\n",
      "x7            -0.9145      0.401     -2.279      0.023        -1.701    -0.128\n",
      "x8             0.0487      0.022      2.168      0.030         0.005     0.093\n",
      "x9            -0.0799      0.157     -0.508      0.611        -0.388     0.228\n",
      "x10         7.741e+05   3.49e+05      2.219      0.027      9.03e+04  1.46e+06\n",
      "x11            0.3200      0.279      1.149      0.251        -0.226     0.866\n",
      "x12           -0.0691      0.026     -2.695      0.007        -0.119    -0.019\n",
      "x13            0.0344      0.200      0.172      0.864        -0.358     0.427\n",
      "x14            0.1930      0.210      0.920      0.358        -0.218     0.604\n",
      "x15           -0.2978      0.132     -2.260      0.024        -0.556    -0.040\n",
      "x16            0.0755      0.033      2.294      0.022         0.011     0.140\n",
      "x17            0.0195      0.008      2.428      0.015         0.004     0.035\n",
      "x18            0.0134      0.077      0.174      0.862        -0.137     0.164\n",
      "x19         7.741e+05   3.49e+05      2.219      0.027      9.03e+04  1.46e+06\n",
      "x20            0.2870      0.169      1.696      0.090        -0.045     0.619\n",
      "x21           -0.0050      0.007     -0.758      0.449        -0.018     0.008\n",
      "x22            0.0058      0.012      0.492      0.623        -0.017     0.029\n",
      "x23            0.2042      0.070      2.921      0.003         0.067     0.341\n",
      "x24           -7.9600      6.813     -1.168      0.243       -21.313     5.393\n",
      "x25            3.9343      5.666      0.694      0.487        -7.171    15.039\n",
      "x26           -0.3084      0.374     -0.825      0.409        -1.041     0.424\n",
      "x27           -0.9043      0.929     -0.974      0.330        -2.725     0.916\n",
      "x28            1.9567     12.233      0.160      0.873       -22.020    25.933\n",
      "x29            1.7233      1.596      1.080      0.280        -1.404     4.851\n",
      "x30          -12.8047     10.859     -1.179      0.238       -34.089     8.479\n",
      "x31            1.1107      1.630      0.681      0.496        -2.084     4.305\n",
      "x32            8.2272      7.391      1.113      0.266        -6.259    22.714\n",
      "x33           -1.6697      4.928     -0.339      0.735       -11.328     7.988\n",
      "x34            0.0544      0.346      0.157      0.875        -0.624     0.733\n",
      "x35            0.1008      1.032      0.098      0.922        -1.922     2.123\n",
      "x36            4.7698      6.959      0.685      0.493        -8.870    18.410\n",
      "x37            0.9272      0.542      1.711      0.087        -0.135     1.989\n",
      "x38           -1.4347      0.591     -2.428      0.015        -2.593    -0.276\n",
      "x39           -0.0387      0.007     -5.677      0.000        -0.052    -0.025\n",
      "x40            0.1340      0.004     34.033      0.000         0.126     0.142\n",
      "x41            0.0484      0.004     11.720      0.000         0.040     0.056\n",
      "x42           -0.0345      0.007     -4.931      0.000        -0.048    -0.021\n",
      "x43            0.0881      0.002     55.389      0.000         0.085     0.091\n",
      "x44           -1.4660      0.553     -2.652      0.008        -2.550    -0.382\n",
      "x45            0.5868      0.250      2.343      0.019         0.096     1.078\n",
      "x46            0.5022      0.256      1.965      0.049         0.001     1.003\n",
      "x47            1.2944      0.542      2.387      0.017         0.232     2.357\n",
      "x48            0.0841      0.089      0.942      0.346        -0.091     0.259\n",
      "x49           -0.1034      0.006    -18.408      0.000        -0.114    -0.092\n",
      "x50            0.0001   5.23e-05      2.005      0.045      2.38e-06     0.000\n",
      "x51           -0.6709      0.363     -1.850      0.064        -1.382     0.040\n",
      "x52            1.4542      0.366      3.974      0.000         0.737     2.171\n",
      "x53           -0.2319      0.375     -0.618      0.537        -0.967     0.504\n",
      "x54            0.0796      0.449      0.177      0.859        -0.801     0.960\n",
      "x55           -0.5958      0.363     -1.639      0.101        -1.308     0.117\n",
      "x56            0.1012      0.367      0.276      0.783        -0.619     0.821\n",
      "x57            0.6167      0.523      1.179      0.238        -0.409     1.642\n",
      "x58            0.4042      0.347      1.166      0.244        -0.275     1.084\n",
      "x59            0.9860      0.355      2.778      0.005         0.290     1.682\n",
      "x60            0.1272      0.356      0.357      0.721        -0.570     0.825\n",
      "x61           -0.0163      0.373     -0.044      0.965        -0.748     0.715\n",
      "x62            1.1293      0.374      3.016      0.003         0.395     1.863\n",
      "x63            0.5033      0.357      1.410      0.158        -0.196     1.203\n",
      "x64            0.2462      0.519      0.475      0.635        -0.771     1.263\n",
      "x65            0.3845      0.371      1.036      0.300        -0.343     1.112\n",
      "x66            0.0504      0.093      0.544      0.586        -0.131     0.232\n",
      "x67            0.0019      0.005      0.383      0.701        -0.008     0.011\n",
      "==============================================================================\n",
      "Omnibus:                    85787.218   Durbin-Watson:                   1.997\n",
      "Prob(Omnibus):                  0.000   Jarque-Bera (JB):        149607596.945\n",
      "Skew:                          10.589   Prob(JB):                         0.00\n",
      "Kurtosis:                     263.920   Cond. No.                     1.22e+16\n",
      "==============================================================================\n",
      "\n",
      "Warnings:\n",
      "[1] Standard Errors assume that the covariance matrix of the errors is correctly specified.\n",
      "[2] The smallest eigenvalue is  8e-21. This might indicate that there are\n",
      "strong multicollinearity problems or that the design matrix is singular.\n"
     ]
    }
   ],
   "source": [
    "model = sm.OLS(Y_trn, X_trn)\n",
    "results = model.fit()\n",
    "print(results.summary())"
   ]
  },
  {
   "cell_type": "code",
   "execution_count": 300,
   "metadata": {
    "collapsed": false,
    "scrolled": false
   },
   "outputs": [
    {
     "name": "stdout",
     "output_type": "stream",
     "text": [
      "Mean Square Error of 1st Sample is 1468.43126036\n",
      "Mean Square Error of 2nd Sample is 1554.12539057\n"
     ]
    },
    {
     "data": {
      "image/png": "[encoded data removed]",
      "text/plain": [
       "<matplotlib.figure.Figure at 0x17c838a5c18>"
      ]
     },
     "metadata": {},
     "output_type": "display_data"
    }
   ],
   "source": [
    "%matplotlib inline \n",
    "from sklearn.metrics import mean_squared_error\n",
    "fig, (ax1, ax2) = plt.subplots(1,2,sharey = 'row',figsize=(12,5))\n",
    "y_predict1 = results.predict(X_tst1)\n",
    "ax1.scatter(Y_tst1, y_predict1)\n",
    "ax1.set_xlabel('True Value')\n",
    "ax1.set_ylabel('Predicted Value')\n",
    "ax1.plot([0,400],[0,400],'r-')\n",
    "ax1.axis('equal')\n",
    "ax1.set_ylim([0,400])\n",
    "ax1.set_xlim([0,400])\n",
    "ax1.set_title('Sample Prediction 1')\n",
    "#\n",
    "y_predict2 = results.predict(X_tst2)\n",
    "ax2.scatter(Y_tst2, y_predict2)\n",
    "ax2.set_xlabel('True Value')\n",
    "ax2.set_ylabel('Predicted Value')\n",
    "ax2.plot([0,400],[0,400],'r-')\n",
    "ax2.axis('equal')\n",
    "ax2.set_ylim([0,400])\n",
    "ax2.set_xlim([0,400])\n",
    "ax2.set_title('Sample Prediction 2');\n",
    "\n",
    "MSE_test1 = mean_squared_error(Y_tst1, y_predict1)\n",
    "print(\"Mean Square Error of 1st Sample is\", MSE_test1)\n",
    "MSE_test2 = mean_squared_error(Y_tst2, y_predict2)\n",
    "print(\"Mean Square Error of 2nd Sample is\", MSE_test2)"
   ]
  },
  {
   "cell_type": "markdown",
   "metadata": {},
   "source": [
    "### Report\n",
    "\n",
    "**(a) I addressed overfitting by cross validation. Partitioning your data is one way to assess how the model fits observations that weren't used to estimate the model.**\n",
    "\n",
    "**(b) The R^2 value is really low which shows that the model isn't a good fit. I tried to improve the model by removing the columns which are correlated and using SVD. But could increase it to a certain value. **\n",
    "\n",
    "**(c) The results of both datasets are almost the same. R squared values are low and the mean square error is too high.**"
   ]
  },
  {
   "cell_type": "markdown",
   "metadata": {},
   "source": [
    "### Task 2\n",
    "\n",
    "Next, we will fit a logistic regression model that decides if a blog post is popular or not. In order to do so, note that you need to define a binary attribute on which you can fit the logistic regression model. As before, use the model to analyze the data.\n",
    "\n",
    "1. Report the results of your linear regression model (error, factors, e.t.c.) for the test datasets a) blogData_test-2012.02.csv b) blogData_test-2012.03.csv ** (10 points) **\n",
    "2. Provide a brief report explaining a) how did you define the binary attribute, b) interpretation of the logistic regression model results, c) compare the results for the two test datasets and mention any interesting observations ** (5 points) **\n",
    "\n",
    "Total: ** (15 points) **"
   ]
  },
  {
   "cell_type": "code",
   "execution_count": 49,
   "metadata": {
    "collapsed": false
   },
   "outputs": [
    {
     "data": {
      "text/plain": [
       "6.764829376288266"
      ]
     },
     "execution_count": 49,
     "metadata": {},
     "output_type": "execute_result"
    }
   ],
   "source": [
    "df_train2 = pd.read_csv('BlogData/blogData_train.csv')\n",
    "df_test11 = pd.read_csv('BlogData/blogData_test-2012.02.csv')\n",
    "df_test22 = pd.read_csv('BlogData/blogData_test-2012.03.csv')\n",
    "X_trn2 = df_train2.iloc[:, 0:279]\n",
    "Y_trn2 = df_train2.iloc[:, 280]\n",
    "Y_mean = np.mean(Y_trn2)\n",
    "Y_mean"
   ]
  },
  {
   "cell_type": "code",
   "execution_count": 266,
   "metadata": {
    "collapsed": true
   },
   "outputs": [],
   "source": [
    "X_tst11 = df_test1.iloc[:, 0:279]\n",
    "Y_tst11 = df_test1.iloc[:, 280]\n",
    "X_tst22 = df_test2.iloc[:, 0:279]\n",
    "Y_tst22 = df_test2.iloc[:, 280]\n",
    "Y_tst11 = np.where(Y_tst1 > 6, 1,0)\n",
    "Y_tst22 = np.where(Y_tst2 > 6, 1,0)"
   ]
  },
  {
   "cell_type": "code",
   "execution_count": 267,
   "metadata": {
    "collapsed": false
   },
   "outputs": [
    {
     "data": {
      "text/plain": [
       "1"
      ]
     },
     "execution_count": 267,
     "metadata": {},
     "output_type": "execute_result"
    }
   ],
   "source": [
    "Y_trn2 = df_train2.iloc[:, 280].astype(float)\n",
    "Y_trn2 = np.where(Y_trn2 > 6, 1,0)\n",
    "Y_trn2[3]"
   ]
  },
  {
   "cell_type": "code",
   "execution_count": 268,
   "metadata": {
    "collapsed": false,
    "scrolled": true
   },
   "outputs": [
    {
     "name": "stdout",
     "output_type": "stream",
     "text": [
      "(52396, 67) (3502, 67)\n"
     ]
    }
   ],
   "source": [
    "from sklearn.feature_selection import VarianceThreshold\n",
    "sel = VarianceThreshold(threshold=(.8 * (1 - .8)))\n",
    "X_trn2 = sel.fit_transform(X_trn2)\n",
    "X_tst11 = sel.fit_transform(X_tst11)\n",
    "X_tst22 = sel.fit_transform(X_tst22)\n",
    "print(X_trn2.shape, X_tst11.shape)"
   ]
  },
  {
   "cell_type": "code",
   "execution_count": 269,
   "metadata": {
    "collapsed": false
   },
   "outputs": [],
   "source": [
    "logit = sm.Logit(Y_trn2, X_trn2)\n",
    "result2 = logit.fit( method = 'lbfgs', maxiter = 35, missing='drop')"
   ]
  },
  {
   "cell_type": "code",
   "execution_count": 270,
   "metadata": {
    "collapsed": false,
    "scrolled": false
   },
   "outputs": [
    {
     "name": "stdout",
     "output_type": "stream",
     "text": [
      "                           Logit Regression Results                           \n",
      "==============================================================================\n",
      "Dep. Variable:                      y   No. Observations:                52396\n",
      "Model:                          Logit   Df Residuals:                    52332\n",
      "Method:                           MLE   Df Model:                           63\n",
      "Date:                Fri, 17 Nov 2017   Pseudo R-squ.:                 -0.9388\n",
      "Time:                        00:32:58   Log-Likelihood:                -36318.\n",
      "converged:                       True   LL-Null:                       -18733.\n",
      "                                        LLR p-value:                     1.000\n",
      "==============================================================================\n",
      "                 coef    std err          z      P>|z|      [95.0% Conf. Int.]\n",
      "------------------------------------------------------------------------------\n",
      "x1                  0      0.014          0      1.000        -0.028     0.028\n",
      "x2                  0      0.012          0      1.000        -0.023     0.023\n",
      "x3                  0   1.57e+06          0      1.000     -3.08e+06  3.08e+06\n",
      "x4                  0      0.000          0      1.000        -0.001     0.001\n",
      "x5                  0      0.005          0      1.000        -0.009     0.009\n",
      "x6                  0        nan        nan        nan           nan       nan\n",
      "x7                  0      0.027          0      1.000        -0.052     0.052\n",
      "x8                  0      0.001          0      1.000        -0.003     0.003\n",
      "x9                  0      0.010          0      1.000        -0.020     0.020\n",
      "x10                 0        nan        nan        nan           nan       nan\n",
      "x11                 0      0.018          0      1.000        -0.036     0.036\n",
      "x12                 0      0.002          0      1.000        -0.003     0.003\n",
      "x13                 0      0.013          0      1.000        -0.026     0.026\n",
      "x14                 0      0.014          0      1.000        -0.027     0.027\n",
      "x15                 0      0.009          0      1.000        -0.017     0.017\n",
      "x16                 0   1.62e+06          0      1.000     -3.18e+06  3.18e+06\n",
      "x17                 0      0.001          0      1.000        -0.001     0.001\n",
      "x18                 0      0.005          0      1.000        -0.010     0.010\n",
      "x19                 0        nan        nan        nan           nan       nan\n",
      "x20                 0      0.011          0      1.000        -0.022     0.022\n",
      "x21                 0      0.000          0      1.000        -0.001     0.001\n",
      "x22                 0      0.001          0      1.000        -0.001     0.001\n",
      "x23                 0      0.004          0      1.000        -0.009     0.009\n",
      "x24                 0      0.450          0      1.000        -0.882     0.882\n",
      "x25                 0      0.373          0      1.000        -0.732     0.732\n",
      "x26                 0      0.025          0      1.000        -0.048     0.048\n",
      "x27                 0      0.061          0      1.000        -0.119     0.119\n",
      "x28                 0      0.805          0      1.000        -1.578     1.578\n",
      "x29                 0      0.105          0      1.000        -0.207     0.207\n",
      "x30                 0      0.719          0      1.000        -1.409     1.409\n",
      "x31                 0      0.108          0      1.000        -0.211     0.211\n",
      "x32                 0      0.489          0      1.000        -0.959     0.959\n",
      "x33                 0      0.325          0      1.000        -0.638     0.638\n",
      "x34                 0      0.023          0      1.000        -0.045     0.045\n",
      "x35                 0      0.068          0      1.000        -0.134     0.134\n",
      "x36                 0      0.454          0      1.000        -0.890     0.890\n",
      "x37                 0      0.034          0      1.000        -0.067     0.067\n",
      "x38                 0      0.039          0      1.000        -0.076     0.076\n",
      "x39                 0      0.000          0      1.000        -0.001     0.001\n",
      "x40                 0   4377.962          0      1.000     -8580.649  8580.649\n",
      "x41                 0   4389.659          0      1.000     -8603.574  8603.574\n",
      "x42                 0      0.000          0      1.000        -0.001     0.001\n",
      "x43                 0   4369.689          0      1.000     -8564.433  8564.433\n",
      "x44                 0      0.037          0      1.000        -0.072     0.072\n",
      "x45                 0   2.96e+05          0      1.000      -5.8e+05   5.8e+05\n",
      "x46                 0   2.96e+05          0      1.000      -5.8e+05   5.8e+05\n",
      "x47                 0      0.036          0      1.000        -0.070     0.070\n",
      "x48                 0   2.96e+05          0      1.000      -5.8e+05   5.8e+05\n",
      "x49                 0      0.000          0      1.000        -0.001     0.001\n",
      "x50                 0   3.46e-06          0      1.000     -6.78e-06  6.78e-06\n",
      "x51                 0      0.024          0      1.000        -0.047     0.047\n",
      "x52                 0      0.024          0      1.000        -0.047     0.047\n",
      "x53                 0      0.025          0      1.000        -0.049     0.049\n",
      "x54                 0      0.030          0      1.000        -0.058     0.058\n",
      "x55                 0      0.024          0      1.000        -0.047     0.047\n",
      "x56                 0      0.024          0      1.000        -0.048     0.048\n",
      "x57                 0      0.035          0      1.000        -0.068     0.068\n",
      "x58                 0      0.023          0      1.000        -0.045     0.045\n",
      "x59                 0      0.023          0      1.000        -0.046     0.046\n",
      "x60                 0      0.024          0      1.000        -0.046     0.046\n",
      "x61                 0      0.025          0      1.000        -0.048     0.048\n",
      "x62                 0      0.025          0      1.000        -0.049     0.049\n",
      "x63                 0      0.024          0      1.000        -0.046     0.046\n",
      "x64                 0      0.034          0      1.000        -0.067     0.067\n",
      "x65                 0      0.025          0      1.000        -0.048     0.048\n",
      "x66                 0      0.006          0      1.000        -0.012     0.012\n",
      "x67                 0      0.000          0      1.000        -0.001     0.001\n",
      "==============================================================================\n"
     ]
    }
   ],
   "source": [
    "print(result2.summary())"
   ]
  },
  {
   "cell_type": "code",
   "execution_count": 272,
   "metadata": {
    "collapsed": false
   },
   "outputs": [
    {
     "name": "stdout",
     "output_type": "stream",
     "text": [
      "Mean Square Error of 1st Sample is 0.25\n",
      "Mean Square Error of 2nd Sample is 0.25\n"
     ]
    }
   ],
   "source": [
    "from sklearn.metrics import mean_squared_error\n",
    "y_predict11 = result2.predict(X_tst11)\n",
    "y_predict22 = result2.predict(X_tst22)\n",
    "MSE_test1 = mean_squared_error(Y_tst11, y_predict11)\n",
    "print(\"Mean Square Error of 1st Sample is\", MSE_test1)\n",
    "MSE_test2 = mean_squared_error(Y_tst22, y_predict22)\n",
    "print(\"Mean Square Error of 2nd Sample is\", MSE_test2)"
   ]
  },
  {
   "cell_type": "code",
   "execution_count": 273,
   "metadata": {
    "collapsed": false
   },
   "outputs": [
    {
     "name": "stdout",
     "output_type": "stream",
     "text": [
      "Precision: 0.742, Recall: 0.440\n",
      "Precision: 0.734, Recall: 0.439\n"
     ]
    }
   ],
   "source": [
    "def evaluate(y_train, X_train, y_test, X_test, threshold):\n",
    "    # learn model on training data\n",
    "    logit = sm.Logit(y_train, X_train)\n",
    "    result = logit.fit(disp=False)\n",
    "    # make probability predictions on test data\n",
    "    y_pred = result.predict(X_test)\n",
    "    # threshold probabilities to create classifications\n",
    "    y_pred = y_pred > threshold\n",
    "    # report metrics\n",
    "    precision = metrics.precision_score(y_test, y_pred)\n",
    "    recall = metrics.recall_score(y_test, y_pred)\n",
    "    return precision, recall\n",
    "\n",
    "precision1, recall1 = evaluate(Y_trn2, X_trn2, Y_tst11, X_tst11, 0.5)\n",
    "precision2, recall2 = evaluate(Y_trn2, X_trn2, Y_tst22, X_tst22, 0.5)\n",
    "\n",
    "print('Precision: {:0.3f}, Recall: {:0.3f}'.format(precision1,recall1))\n",
    "print('Precision: {:0.3f}, Recall: {:0.3f}'.format(precision2,recall2))\n",
    "\n",
    "import warnings\n",
    "warnings.filterwarnings(\"ignore\")"
   ]
  },
  {
   "cell_type": "markdown",
   "metadata": {},
   "source": [
    "### Report\n",
    "\n",
    "**(a) The binary attribute I defined was the last column which is the target which I want to predict i.e. the number of comments received in the next 24 hours with respect to the base time. Conversion to binary was done using the mean value of the comments so the blogs which have > 6 comments are considered to be popular (1) and the ones which have comments < 6 are considered to be unpopular (0). **\n",
    "\n",
    "**(b)  Notice that almost all of our independent variables are considered significant (very few confidence intervals contain zero). I tried to improve the model by removing the columns which are correlated.**\n",
    "\n",
    "**(c) The prediction results which include the Mean Square Error, Precision and Recall for the two datasets are almost identical. Precision is the fraction of \"yes\"es that are correct and Recall is the fraction of admits that we say \"yes\" to**"
   ]
  },
  {
   "cell_type": "markdown",
   "metadata": {},
   "source": [
    "### Task 3\n",
    "\n",
    "Now, we are going to use the K-Nearest Neighbors Classifier to decide if a blog post is popular or not. Please use the same popularity definition as in task 2, for this task. KNN is an instant-based classification which simply stores instances of the training data. Then, classification is computed from a majority vote of the nearest neighbors of each point.\n",
    "\n",
    "1. Report the accuracy of your prediction for the test datasets a) blogData_test-2012.02.csv b) blogData_test-2012.03.csv ** (10 points) **\n",
    "2. Provide a brief report explaining a) how did you define the nearest neighbors, b) interpretation of the KNN results, c) compare the results for the two test datasets and mention any interesting observations (5 points)\n",
    "\n",
    "Total: ** (15 points) **"
   ]
  },
  {
   "cell_type": "code",
   "execution_count": 64,
   "metadata": {
    "collapsed": false
   },
   "outputs": [
    {
     "name": "stdout",
     "output_type": "stream",
     "text": [
      "Shape of data: (52396, 279)\n",
      "Unique labels: [0 1]\n"
     ]
    }
   ],
   "source": [
    "X_trn_knn = df_train.iloc[:, 0:279]\n",
    "Y_trn_knn = df_train.iloc[:, 280]\n",
    "X_tst1_knn = df_test1.iloc[:, 0:279]\n",
    "Y_tst1_knn = df_test1.iloc[:, 280]\n",
    "X_tst2_knn = df_test2.iloc[:, 0:279]\n",
    "Y_tst2_knn = df_test2.iloc[:, 280]\n",
    "Y_trn_knn = np.where(Y_trn_knn > 6, 1,0)\n",
    "Y_tst1_knn = np.where(Y_tst1_knn > 6, 1,0)\n",
    "Y_tst2_knn = np.where(Y_tst2_knn > 6, 1,0)\n",
    "print('Shape of data: {}'.format(X_trn_knn.shape))\n",
    "print('Unique labels: {}'.format(np.unique(Y_trn_knn)))\n"
   ]
  },
  {
   "cell_type": "code",
   "execution_count": 126,
   "metadata": {
    "collapsed": false,
    "scrolled": false
   },
   "outputs": [
    {
     "name": "stdout",
     "output_type": "stream",
     "text": [
      "k = 1\n",
      "Accuracy on test data 1: 0.9997144488863506\n",
      "Accuracy on test data 2: 0.999757281553398\n",
      "##################################################\n",
      "k = 2\n",
      "Accuracy on test data 1: 0.9614505996573387\n",
      "Accuracy on test data 2: 0.9592233009708738\n",
      "##################################################\n",
      "k = 3\n",
      "Accuracy on test data 1: 0.9580239862935466\n",
      "Accuracy on test data 2: 0.9575242718446602\n",
      "##################################################\n",
      "k = 4\n",
      "Accuracy on test data 1: 0.9440319817247287\n",
      "Accuracy on test data 2: 0.941990291262136\n",
      "##################################################\n",
      "k = 5\n",
      "Accuracy on test data 1: 0.9423186750428326\n",
      "Accuracy on test data 2: 0.9422330097087379\n",
      "##################################################\n",
      "k = 6\n",
      "Accuracy on test data 1: 0.9354654483152485\n",
      "Accuracy on test data 2: 0.9354368932038835\n",
      "##################################################\n",
      "k = 7\n",
      "Accuracy on test data 1: 0.9377498572244432\n",
      "Accuracy on test data 2: 0.9376213592233009\n",
      "##################################################\n",
      "k = 8\n",
      "Accuracy on test data 1: 0.9328954882924043\n",
      "Accuracy on test data 2: 0.9310679611650485\n",
      "##################################################\n",
      "k = 9\n",
      "Accuracy on test data 1: 0.9331810394060537\n",
      "Accuracy on test data 2: 0.9305825242718446\n",
      "##################################################\n",
      "k = 10\n",
      "Accuracy on test data 1: 0.9323243860651057\n",
      "Accuracy on test data 2: 0.929368932038835\n",
      "##################################################\n",
      "k = 11\n",
      "Accuracy on test data 1: 0.9320388349514563\n",
      "Accuracy on test data 2: 0.9298543689320389\n",
      "##################################################\n",
      "k = 12\n",
      "Accuracy on test data 1: 0.9280411193603655\n",
      "Accuracy on test data 2: 0.9259708737864077\n",
      "##################################################\n",
      "k = 13\n",
      "Accuracy on test data 1: 0.9283266704740148\n",
      "Accuracy on test data 2: 0.9262135922330097\n",
      "##################################################\n",
      "k = 14\n",
      "Accuracy on test data 1: 0.9271844660194175\n",
      "Accuracy on test data 2: 0.9254854368932038\n",
      "##################################################\n",
      "k = 15\n",
      "Accuracy on test data 1: 0.9257567104511708\n",
      "Accuracy on test data 2: 0.9242718446601942\n",
      "##################################################\n",
      "k = 16\n",
      "Accuracy on test data 1: 0.9251856082238721\n",
      "Accuracy on test data 2: 0.9235436893203883\n",
      "##################################################\n",
      "k = 17\n",
      "Accuracy on test data 1: 0.9237578526556254\n",
      "Accuracy on test data 2: 0.9223300970873787\n",
      "##################################################\n",
      "k = 18\n",
      "Accuracy on test data 1: 0.9240434037692747\n",
      "Accuracy on test data 2: 0.9223300970873787\n",
      "##################################################\n",
      "k = 19\n",
      "Accuracy on test data 1: 0.923472301541976\n",
      "Accuracy on test data 2: 0.9218446601941748\n",
      "##################################################\n"
     ]
    }
   ],
   "source": [
    "k = [1,2,3,4,5,6,7,8,9,10,11,12,13,14,15,16,17,18,19]\n",
    "acc1 = []\n",
    "acc2 = []\n",
    "for i in k:\n",
    "    knn = KNeighborsClassifier(n_neighbors=i)\n",
    "    knn.fit(X_trn_knn,Y_trn_knn)\n",
    "    y_pred_test1_knn = knn.predict(X_tst1_knn)\n",
    "    y_pred_test2_knn = knn.predict(X_tst2_knn)\n",
    "    print('k =', i)\n",
    "    print('Accuracy on test data 1: {}'.format(knn.score(X_tst1_knn, Y_tst1_knn)))\n",
    "    print('Accuracy on test data 2: {}'.format(knn.score(X_tst2_knn, Y_tst2_knn)))\n",
    "    print(\"#\"*50)\n",
    "    acc1.append(knn.score(X_tst1_knn, Y_tst1_knn))\n",
    "    acc2.append(knn.score(X_tst2_knn, Y_tst2_knn))"
   ]
  },
  {
   "cell_type": "code",
   "execution_count": 127,
   "metadata": {
    "collapsed": false
   },
   "outputs": [
    {
     "data": {
      "image/png": "[encoded data removed]",
      "text/plain": [
       "<matplotlib.figure.Figure at 0x17c806a62b0>"
      ]
     },
     "metadata": {},
     "output_type": "display_data"
    }
   ],
   "source": [
    "plt.plot(acc1,'.')\n",
    "plt.plot(acc2,'.')\n",
    "plt.xlabel('k')\n",
    "_=plt.ylabel('Accuracy')"
   ]
  },
  {
   "cell_type": "markdown",
   "metadata": {},
   "source": [
    "### Report\n",
    "\n",
    "**(a) The nearest neighbors were decided after trying different values. The points are in a 280 dimensional plane. The number of points is reasonably large. This means that the density of the plane at any point is fairly high. In other words, within any subspace there is adequate number of points. The best accuracy was achieved at k=1 for both the test datasets. The test accuracys were plotted for both test datasets on different K-values. Above is the curve for the testing error rate with varying value of K.**\n",
    "\n",
    "**(b) The accuracy for both test data is greater at k = 1 and it decreases as we increase the value of k **\n",
    "\n",
    "**(c) The results of both datasets are somewhat similar at different k values and their difference is greater at higher values of k **"
   ]
  },
  {
   "cell_type": "markdown",
   "metadata": {},
   "source": [
    "### Task 4\n",
    "\n",
    "Finally, we are going to use the Decision Trees Classifier to decide if a blog post is popular or not. Please use the same popularity definition as in tasks 2,3, for this task. In order to construct a Decision Tree you will need to discretize some of the attributes.\n",
    "\n",
    "1. Report the accuracy of your prediction for the test datasets a) blogData_test-2012.02.csv b) blogData_test-2012.03.csv ** (10 points) **\n",
    "2. Provide a brief report explaining a) which attributes did you discretize and how, b) interpretation of the Decision Tree Classifier results, c) compare the results for the two test datasets and mention any interesting observations (5 points)\n",
    "\n",
    "Total: ** (15 points) **"
   ]
  },
  {
   "cell_type": "code",
   "execution_count": 123,
   "metadata": {
    "collapsed": false
   },
   "outputs": [
    {
     "name": "stdout",
     "output_type": "stream",
     "text": [
      "DT accuracy on 1st test data:  0.999714448886\n",
      "DT accuracy on 2nd test data:  0.999514563107\n"
     ]
    }
   ],
   "source": [
    "dtc = tree.DecisionTreeClassifier()\n",
    "dtc.fit(X_trn_knn,Y_trn_knn)\n",
    "y_pred_test = dtc.predict(X_tst1_knn)\n",
    "print('DT accuracy on 1st test data: ', dtc.score(X_tst1_knn, Y_tst1_knn))\n",
    "y_pred_test = dtc.predict(X_tst2_knn)\n",
    "print('DT accuracy on 2nd test data: ', dtc.score(X_tst2_knn, Y_tst2_knn))"
   ]
  },
  {
   "cell_type": "code",
   "execution_count": 122,
   "metadata": {
    "collapsed": false
   },
   "outputs": [
    {
     "name": "stdout",
     "output_type": "stream",
     "text": [
      "DT accuracy on training data:  0.999141155813\n"
     ]
    }
   ],
   "source": [
    "y_pred_train = dtc.predict(X_trn_knn)\n",
    "print('DT accuracy on training data: ', dtc.score(X_trn_knn, Y_trn_knn))"
   ]
  },
  {
   "cell_type": "markdown",
   "metadata": {},
   "source": [
    "### Report\n",
    "\n",
    "**(a) The newer version of algorithm removed the restriction that features must be categorical by dynamically defining a discrete attribute (based on numerical variables) that partitions the continuous attribute value into a discrete set of intervals.  **\n",
    "\n",
    "**(b) The accuracy of the decision tree classifier for both the test datasets is the same which shows that the model is a good fit**\n",
    "\n",
    "**(c) The model fits better on the first dataset **"
   ]
  }
 ],
 "metadata": {
  "anaconda-cloud": {},
  "kernelspec": {
   "display_name": "Python [default]",
   "language": "python",
   "name": "python3"
  },
  "language_info": {
   "codemirror_mode": {
    "name": "ipython",
    "version": 3
   },
   "file_extension": ".py",
   "mimetype": "text/x-python",
   "name": "python",
   "nbconvert_exporter": "python",
   "pygments_lexer": "ipython3",
   "version": "3.5.2"
  }
 },
 "nbformat": 4,
 "nbformat_minor": 2
}
