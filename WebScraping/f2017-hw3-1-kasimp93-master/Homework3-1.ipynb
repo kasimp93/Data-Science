{
 "cells": [
  {
   "cell_type": "markdown",
   "metadata": {},
   "source": [
    "# Scraping Hotel Ratings on Booking # "
   ]
  },
  {
   "cell_type": "markdown",
   "metadata": {},
   "source": [
    "In this homework we will practice web scraping on the following [site](https://www.booking.com/searchresults.html?aid=304142&label=gen173nr-1DCAEoggJCAlhYSDNiBW5vcmVmcgV1c19tYYgBAZgBMcIBA2FibsgBDdgBA-gBAfgBApICAXmoAgQ&sid=28d97f630803f9d48b4a1f535cbdd33f&class_interval=1&dest_id=20061717&dest_type=city&group_adults=2&group_children=0&label_click=undef&no_rooms=1&raw_dest_type=city&room1=A%2CA&sb_price_type=total&src=index&src_elem=sb&ss=Boston&ssb=empty&ssne_untouched=Cancún&rows=15). Let's get some basic information for each hotel in Boston.\n",
    "On each hotel page, scrape the following information: \n",
    "1. Hotel Name\n",
    "2. Class of Rating (Wonderful/Excellent/Very Good/Good)\n",
    "3. Rating Score\n",
    "4. Number of Reviews\n",
    "\n",
    "\n",
    "** Save the data in \"traveler_ratings.csv\" in the following format: hotel_name, class_of_rating, rating, num_reviews **\n",
    "\n",
    "**(10 pts)**\n",
    "\n",
    "You can see an overview of the information as displayed:\n",
    "\n",
    "\n",
    "\n",
    "\n",
    "\n",
    "![Information to be scraped](booking_sample.png)"
   ]
  },
  {
   "cell_type": "markdown",
   "metadata": {
    "collapsed": true
   },
   "source": [
    "Now let's scrape some reviews. For each review of each each hotel in Boston you are to scrape the following attributes: \n",
    "1. Reviewer name\n",
    "2. Reviewer ethnicity\n",
    "3. Number of reviews \n",
    "4. Number of helpful votes\n",
    "5. Date\n",
    "6. Rating\n",
    "7. Negative Review\n",
    "8. Positive Review\n",
    "\n",
    "Note that you will also need the hotel's name!! Also, some reviews may not have all attributes. \n",
    "\n",
    "** Save the data in \"review_ratings.csv\" in the following format: hotel_name, reviewer_name, ethnicity, num_reviews, num_help_votes, date, rating, neg_review, pos_review **\n",
    "\n",
    "**(25 pts)**\n",
    "\n",
    "You can see an overview of the information as displayed:\n",
    "![Information to be scraped](review_sample.png)"
   ]
  },
  {
   "cell_type": "code",
   "execution_count": null,
   "metadata": {
    "collapsed": true
   },
   "outputs": [],
   "source": []
  },
  {
   "cell_type": "code",
   "execution_count": null,
   "metadata": {
    "collapsed": true
   },
   "outputs": [],
   "source": []
  }
 ],
 "metadata": {
  "kernelspec": {
   "display_name": "Python 2",
   "language": "python",
   "name": "python2"
  },
  "language_info": {
   "codemirror_mode": {
    "name": "ipython",
    "version": 2
   },
   "file_extension": ".py",
   "mimetype": "text/x-python",
   "name": "python",
   "nbconvert_exporter": "python",
   "pygments_lexer": "ipython2",
   "version": "2.7.13"
  }
 },
 "nbformat": 4,
 "nbformat_minor": 2
}
